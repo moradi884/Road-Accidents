{
  "nbformat": 4,
  "nbformat_minor": 0,
  "metadata": {
    "colab": {
      "provenance": []
    },
    "kernelspec": {
      "name": "python3",
      "display_name": "Python 3"
    },
    "language_info": {
      "name": "python"
    }
  },
  "cells": [
    {
      "cell_type": "markdown",
      "source": [
        "# **Data Cleaning**"
      ],
      "metadata": {
        "id": "Ww5c3EMJTQG9"
      }
    },
    {
      "cell_type": "code",
      "source": [
        "# Import the necessary libraries\n",
        "import pandas as pd\n",
        "import matplotlib.pyplot as plt\n",
        "import os"
      ],
      "metadata": {
        "id": "qYfZsSmPTXhE"
      },
      "execution_count": null,
      "outputs": []
    },
    {
      "cell_type": "code",
      "source": [
        "# Read the CSV file\n",
        "file_name = 'dft-road-casualty-statistics-casualty-provisional-mid-year-unvalidated-2022'\n",
        "data = pd.read_csv(\"/content/dft-road-casualty-statistics-casualty-provisional-mid-year-unvalidated-2022.csv\", error_bad_lines=False)"
      ],
      "metadata": {
        "colab": {
          "base_uri": "https://localhost:8080/"
        },
        "id": "4VaspGTKTxpl",
        "outputId": "252c9afc-9111-4af1-975d-db934064a0c9"
      },
      "execution_count": null,
      "outputs": [
        {
          "output_type": "stream",
          "name": "stderr",
          "text": [
            "<ipython-input-53-7242fb24a6ee>:3: FutureWarning: The error_bad_lines argument has been deprecated and will be removed in a future version. Use on_bad_lines in the future.\n",
            "\n",
            "\n",
            "  data = pd.read_csv(\"/content/dft-road-casualty-statistics-casualty-provisional-mid-year-unvalidated-2022.csv\", error_bad_lines=False)\n"
          ]
        }
      ]
    },
    {
      "cell_type": "code",
      "source": [
        "# Display the first few rows of the data\n",
        "print(data.head())"
      ],
      "metadata": {
        "colab": {
          "base_uri": "https://localhost:8080/"
        },
        "id": "ZLwNnDmOU_43",
        "outputId": "89c304fd-41ff-4127-ad42-e54a4783ce2b"
      },
      "execution_count": null,
      "outputs": [
        {
          "output_type": "stream",
          "name": "stdout",
          "text": [
            "        status accident_index  accident_year accident_reference  \\\n",
            "0  Unvalidated  2022070151244           2022          070151244   \n",
            "1  Unvalidated  2022070152668           2022          070152668   \n",
            "2  Unvalidated  2022070154696           2022          070154696   \n",
            "3  Unvalidated  2022070154696           2022          070154696   \n",
            "4  Unvalidated  2022070154696           2022          070154696   \n",
            "\n",
            "   vehicle_reference  casualty_reference  casualty_class  sex_of_casualty  \\\n",
            "0                  2                   1               1                2   \n",
            "1                  1                   1               1                1   \n",
            "2                  1                   1               1                2   \n",
            "3                  2                   3               1                2   \n",
            "4                  3                   2               1                1   \n",
            "\n",
            "   age_of_casualty  age_band_of_casualty  casualty_severity  \\\n",
            "0               46                     8                  3   \n",
            "1               30                     6                  3   \n",
            "2               58                     9                  3   \n",
            "3               78                    11                  3   \n",
            "4               63                     9                  3   \n",
            "\n",
            "   pedestrian_location  pedestrian_movement  car_passenger  \\\n",
            "0                    0                    0              0   \n",
            "1                    0                    0              0   \n",
            "2                    0                    0              0   \n",
            "3                    0                    0              0   \n",
            "4                    0                    0              0   \n",
            "\n",
            "   bus_or_coach_passenger  pedestrian_road_maintenance_worker  casualty_type  \\\n",
            "0                       0                                   0              9   \n",
            "1                       0                                   0              9   \n",
            "2                       0                                   0              9   \n",
            "3                       0                                   0              9   \n",
            "4                       0                                   0              9   \n",
            "\n",
            "   casualty_home_area_type  casualty_imd_decile lsoa_of_casualty  \n",
            "0                        1                    9        E01033378  \n",
            "1                        1                    2        E01018551  \n",
            "2                        1                   10        E01006134  \n",
            "3                        2                   10        E01018724  \n",
            "4                        3                    7        W01000578  \n"
          ]
        }
      ]
    },
    {
      "cell_type": "code",
      "source": [
        "# Display the last few rows of the data\n",
        "print(data.tail())"
      ],
      "metadata": {
        "colab": {
          "base_uri": "https://localhost:8080/"
        },
        "id": "yiPNUfTfVNpm",
        "outputId": "79565352-d6c2-43cf-b8ac-d0174a107ebe"
      },
      "execution_count": null,
      "outputs": [
        {
          "output_type": "stream",
          "name": "stdout",
          "text": [
            "            status accident_index  accident_year accident_reference  \\\n",
            "61347  Unvalidated  2022461156711           2022          461156711   \n",
            "61348  Unvalidated  2022461157243           2022          461157243   \n",
            "61349  Unvalidated  2022461157256           2022          461157256   \n",
            "61350  Unvalidated  2022461157316           2022          461157316   \n",
            "61351  Unvalidated  2022461159841           2022          461159841   \n",
            "\n",
            "       vehicle_reference  casualty_reference  casualty_class  sex_of_casualty  \\\n",
            "61347                  1                   1               3                2   \n",
            "61348                  1                   1               3                1   \n",
            "61349                  2                   1               1                1   \n",
            "61350                  1                   1               1                2   \n",
            "61351                  2                   1               1                1   \n",
            "\n",
            "       age_of_casualty  age_band_of_casualty  casualty_severity  \\\n",
            "61347               56                     9                  3   \n",
            "61348               14                     3                  2   \n",
            "61349               42                     7                  3   \n",
            "61350               40                     7                  3   \n",
            "61351               71                    10                  3   \n",
            "\n",
            "       pedestrian_location  pedestrian_movement  car_passenger  \\\n",
            "61347                   10                    9              0   \n",
            "61348                    5                    9              0   \n",
            "61349                    0                    0              0   \n",
            "61350                    0                    0              0   \n",
            "61351                    0                    0              0   \n",
            "\n",
            "       bus_or_coach_passenger  pedestrian_road_maintenance_worker  \\\n",
            "61347                       0                                   0   \n",
            "61348                       0                                   0   \n",
            "61349                       0                                   0   \n",
            "61350                       0                                   0   \n",
            "61351                       0                                   0   \n",
            "\n",
            "       casualty_type  casualty_home_area_type  casualty_imd_decile  \\\n",
            "61347              0                        1                   10   \n",
            "61348              0                       -1                   -1   \n",
            "61349              9                        1                    5   \n",
            "61350              9                        1                    3   \n",
            "61351              9                        1                    2   \n",
            "\n",
            "      lsoa_of_casualty  \n",
            "61347        E01024046  \n",
            "61348               -1  \n",
            "61349        E01016034  \n",
            "61350        E01024497  \n",
            "61351        E01016025  \n"
          ]
        }
      ]
    },
    {
      "cell_type": "code",
      "source": [
        "# Display the information of the data\n",
        "print(data.info())"
      ],
      "metadata": {
        "colab": {
          "base_uri": "https://localhost:8080/"
        },
        "id": "EDvy1Q74VcAj",
        "outputId": "753bda3a-a8a2-47c9-96da-8d62c4a4b69d"
      },
      "execution_count": null,
      "outputs": [
        {
          "output_type": "stream",
          "name": "stdout",
          "text": [
            "<class 'pandas.core.frame.DataFrame'>\n",
            "RangeIndex: 61352 entries, 0 to 61351\n",
            "Data columns (total 20 columns):\n",
            " #   Column                              Non-Null Count  Dtype \n",
            "---  ------                              --------------  ----- \n",
            " 0   status                              61352 non-null  object\n",
            " 1   accident_index                      61352 non-null  object\n",
            " 2   accident_year                       61352 non-null  int64 \n",
            " 3   accident_reference                  61352 non-null  object\n",
            " 4   vehicle_reference                   61352 non-null  int64 \n",
            " 5   casualty_reference                  61352 non-null  int64 \n",
            " 6   casualty_class                      61352 non-null  int64 \n",
            " 7   sex_of_casualty                     61352 non-null  int64 \n",
            " 8   age_of_casualty                     61352 non-null  int64 \n",
            " 9   age_band_of_casualty                61352 non-null  int64 \n",
            " 10  casualty_severity                   61352 non-null  int64 \n",
            " 11  pedestrian_location                 61352 non-null  int64 \n",
            " 12  pedestrian_movement                 61352 non-null  int64 \n",
            " 13  car_passenger                       61352 non-null  int64 \n",
            " 14  bus_or_coach_passenger              61352 non-null  int64 \n",
            " 15  pedestrian_road_maintenance_worker  61352 non-null  int64 \n",
            " 16  casualty_type                       61352 non-null  int64 \n",
            " 17  casualty_home_area_type             61352 non-null  int64 \n",
            " 18  casualty_imd_decile                 61352 non-null  int64 \n",
            " 19  lsoa_of_casualty                    61352 non-null  object\n",
            "dtypes: int64(16), object(4)\n",
            "memory usage: 9.4+ MB\n",
            "None\n"
          ]
        }
      ]
    },
    {
      "cell_type": "code",
      "source": [
        "# Display the number of unique values in each column\n",
        "print(data.nunique())"
      ],
      "metadata": {
        "colab": {
          "base_uri": "https://localhost:8080/"
        },
        "id": "CDLfO-9UVcDs",
        "outputId": "33757669-6995-45e5-b789-11e9bce73d62"
      },
      "execution_count": null,
      "outputs": [
        {
          "output_type": "stream",
          "name": "stdout",
          "text": [
            "status                                    1\n",
            "accident_index                        48283\n",
            "accident_year                             1\n",
            "accident_reference                    48283\n",
            "vehicle_reference                        11\n",
            "casualty_reference                       18\n",
            "casualty_class                            3\n",
            "sex_of_casualty                           4\n",
            "age_of_casualty                         102\n",
            "age_band_of_casualty                     12\n",
            "casualty_severity                         3\n",
            "pedestrian_location                      11\n",
            "pedestrian_movement                      10\n",
            "car_passenger                             5\n",
            "bus_or_coach_passenger                    7\n",
            "pedestrian_road_maintenance_worker        4\n",
            "casualty_type                            22\n",
            "casualty_home_area_type                   4\n",
            "casualty_imd_decile                      11\n",
            "lsoa_of_casualty                      23841\n",
            "dtype: int64\n"
          ]
        }
      ]
    },
    {
      "cell_type": "code",
      "source": [
        "# Check if any column has missing values\n",
        "print(data.isnull().any())"
      ],
      "metadata": {
        "colab": {
          "base_uri": "https://localhost:8080/"
        },
        "id": "eKGQ7SbCVcGd",
        "outputId": "b527379e-a8ac-40b8-a3bc-bbeb1ce863a7"
      },
      "execution_count": null,
      "outputs": [
        {
          "output_type": "stream",
          "name": "stdout",
          "text": [
            "status                                False\n",
            "accident_index                        False\n",
            "accident_year                         False\n",
            "accident_reference                    False\n",
            "vehicle_reference                     False\n",
            "casualty_reference                    False\n",
            "casualty_class                        False\n",
            "sex_of_casualty                       False\n",
            "age_of_casualty                       False\n",
            "age_band_of_casualty                  False\n",
            "casualty_severity                     False\n",
            "pedestrian_location                   False\n",
            "pedestrian_movement                   False\n",
            "car_passenger                         False\n",
            "bus_or_coach_passenger                False\n",
            "pedestrian_road_maintenance_worker    False\n",
            "casualty_type                         False\n",
            "casualty_home_area_type               False\n",
            "casualty_imd_decile                   False\n",
            "lsoa_of_casualty                      False\n",
            "dtype: bool\n"
          ]
        }
      ]
    },
    {
      "cell_type": "code",
      "source": [
        "# Count the number of missing values in each column\n",
        "missing_values = data.isnull().sum()\n",
        "print(missing_values)"
      ],
      "metadata": {
        "colab": {
          "base_uri": "https://localhost:8080/"
        },
        "id": "cw0otPTVVcJG",
        "outputId": "55ef1b6a-262c-4b77-b155-a99f1457742d"
      },
      "execution_count": null,
      "outputs": [
        {
          "output_type": "stream",
          "name": "stdout",
          "text": [
            "status                                0\n",
            "accident_index                        0\n",
            "accident_year                         0\n",
            "accident_reference                    0\n",
            "vehicle_reference                     0\n",
            "casualty_reference                    0\n",
            "casualty_class                        0\n",
            "sex_of_casualty                       0\n",
            "age_of_casualty                       0\n",
            "age_band_of_casualty                  0\n",
            "casualty_severity                     0\n",
            "pedestrian_location                   0\n",
            "pedestrian_movement                   0\n",
            "car_passenger                         0\n",
            "bus_or_coach_passenger                0\n",
            "pedestrian_road_maintenance_worker    0\n",
            "casualty_type                         0\n",
            "casualty_home_area_type               0\n",
            "casualty_imd_decile                   0\n",
            "lsoa_of_casualty                      0\n",
            "dtype: int64\n"
          ]
        }
      ]
    },
    {
      "cell_type": "code",
      "source": [
        "# Display summary statistics of the data\n",
        "summary = data.describe(include='all')\n",
        "print(summary)"
      ],
      "metadata": {
        "colab": {
          "base_uri": "https://localhost:8080/"
        },
        "id": "p5qWBdGkVcLY",
        "outputId": "e1070998-2447-4ae0-dd6d-b5b3f70b51a6"
      },
      "execution_count": null,
      "outputs": [
        {
          "output_type": "stream",
          "name": "stdout",
          "text": [
            "             status accident_index  accident_year accident_reference  \\\n",
            "count         61352          61352        61352.0              61352   \n",
            "unique            1          48283            NaN              48283   \n",
            "top     Unvalidated  2022010356595            NaN          010356595   \n",
            "freq          61352             16            NaN                 16   \n",
            "mean            NaN            NaN         2022.0                NaN   \n",
            "std             NaN            NaN            0.0                NaN   \n",
            "min             NaN            NaN         2022.0                NaN   \n",
            "25%             NaN            NaN         2022.0                NaN   \n",
            "50%             NaN            NaN         2022.0                NaN   \n",
            "75%             NaN            NaN         2022.0                NaN   \n",
            "max             NaN            NaN         2022.0                NaN   \n",
            "\n",
            "        vehicle_reference  casualty_reference  casualty_class  \\\n",
            "count        61352.000000        61352.000000    61352.000000   \n",
            "unique                NaN                 NaN             NaN   \n",
            "top                   NaN                 NaN             NaN   \n",
            "freq                  NaN                 NaN             NaN   \n",
            "mean             1.450368            1.333779        1.482299   \n",
            "std              1.109855            0.981507        0.735614   \n",
            "min              1.000000            1.000000        1.000000   \n",
            "25%              1.000000            1.000000        1.000000   \n",
            "50%              1.000000            1.000000        1.000000   \n",
            "75%              2.000000            1.000000        2.000000   \n",
            "max            227.000000          148.000000        3.000000   \n",
            "\n",
            "        sex_of_casualty  age_of_casualty  age_band_of_casualty  \\\n",
            "count      61352.000000     61352.000000          61352.000000   \n",
            "unique              NaN              NaN                   NaN   \n",
            "top                 NaN              NaN                   NaN   \n",
            "freq                NaN              NaN                   NaN   \n",
            "mean           1.368790        36.670312              6.288157   \n",
            "std            0.534536        19.574357              2.463082   \n",
            "min           -1.000000        -1.000000             -1.000000   \n",
            "25%            1.000000        22.000000              5.000000   \n",
            "50%            1.000000        34.000000              6.000000   \n",
            "75%            2.000000        50.000000              8.000000   \n",
            "max            9.000000       101.000000             11.000000   \n",
            "\n",
            "        casualty_severity  pedestrian_location  pedestrian_movement  \\\n",
            "count        61352.000000         61352.000000         61352.000000   \n",
            "unique                NaN                  NaN                  NaN   \n",
            "top                   NaN                  NaN                  NaN   \n",
            "freq                  NaN                  NaN                  NaN   \n",
            "mean             2.783039             0.800316             0.645325   \n",
            "std              0.442318             2.197167             2.009611   \n",
            "min              1.000000             0.000000             0.000000   \n",
            "25%              3.000000             0.000000             0.000000   \n",
            "50%              3.000000             0.000000             0.000000   \n",
            "75%              3.000000             0.000000             0.000000   \n",
            "max              3.000000            10.000000             9.000000   \n",
            "\n",
            "        car_passenger  bus_or_coach_passenger  \\\n",
            "count    61352.000000            61352.000000   \n",
            "unique            NaN                     NaN   \n",
            "top               NaN                     NaN   \n",
            "freq              NaN                     NaN   \n",
            "mean         0.222047                0.048507   \n",
            "std          0.615127                0.426419   \n",
            "min         -1.000000               -1.000000   \n",
            "25%          0.000000                0.000000   \n",
            "50%          0.000000                0.000000   \n",
            "75%          0.000000                0.000000   \n",
            "max          9.000000                9.000000   \n",
            "\n",
            "        pedestrian_road_maintenance_worker  casualty_type  \\\n",
            "count                         61352.000000   61352.000000   \n",
            "unique                                 NaN            NaN   \n",
            "top                                    NaN            NaN   \n",
            "freq                                   NaN            NaN   \n",
            "mean                              0.032860       9.475160   \n",
            "std                               0.261327      16.662727   \n",
            "min                              -1.000000      -1.000000   \n",
            "25%                               0.000000       1.000000   \n",
            "50%                               0.000000       9.000000   \n",
            "75%                               0.000000       9.000000   \n",
            "max                               2.000000      98.000000   \n",
            "\n",
            "        casualty_home_area_type  casualty_imd_decile lsoa_of_casualty  \n",
            "count              61352.000000         61352.000000            61352  \n",
            "unique                      NaN                  NaN            23841  \n",
            "top                         NaN                  NaN               -1  \n",
            "freq                        NaN                  NaN             8027  \n",
            "mean                   1.091032             4.337674              NaN  \n",
            "std                    0.903365             3.158496              NaN  \n",
            "min                   -1.000000            -1.000000              NaN  \n",
            "25%                    1.000000             2.000000              NaN  \n",
            "50%                    1.000000             4.000000              NaN  \n",
            "75%                    1.000000             7.000000              NaN  \n",
            "max                    3.000000            10.000000              NaN  \n"
          ]
        }
      ]
    },
    {
      "cell_type": "code",
      "source": [
        "# Display the correlation between variables\n",
        "print(data.corr())"
      ],
      "metadata": {
        "colab": {
          "base_uri": "https://localhost:8080/"
        },
        "id": "lIpMH5m1VcN0",
        "outputId": "2a5e2653-e2b4-4f66-e6b3-701aee6a6847"
      },
      "execution_count": null,
      "outputs": [
        {
          "output_type": "stream",
          "name": "stdout",
          "text": [
            "                                    accident_year  vehicle_reference  \\\n",
            "accident_year                                 NaN                NaN   \n",
            "vehicle_reference                             NaN           1.000000   \n",
            "casualty_reference                            NaN           0.086656   \n",
            "casualty_class                                NaN          -0.135209   \n",
            "sex_of_casualty                               NaN           0.019836   \n",
            "age_of_casualty                               NaN           0.026375   \n",
            "age_band_of_casualty                          NaN           0.032156   \n",
            "casualty_severity                             NaN           0.042429   \n",
            "pedestrian_location                           NaN          -0.137785   \n",
            "pedestrian_movement                           NaN          -0.117820   \n",
            "car_passenger                                 NaN           0.010759   \n",
            "bus_or_coach_passenger                        NaN          -0.021777   \n",
            "pedestrian_road_maintenance_worker            NaN          -0.047766   \n",
            "casualty_type                                 NaN           0.035500   \n",
            "casualty_home_area_type                       NaN           0.011814   \n",
            "casualty_imd_decile                           NaN           0.017928   \n",
            "\n",
            "                                    casualty_reference  casualty_class  \\\n",
            "accident_year                                      NaN             NaN   \n",
            "vehicle_reference                             0.086656       -0.135209   \n",
            "casualty_reference                            1.000000        0.100020   \n",
            "casualty_class                                0.100020        1.000000   \n",
            "sex_of_casualty                               0.048556        0.137353   \n",
            "age_of_casualty                              -0.078981       -0.132366   \n",
            "age_band_of_casualty                         -0.095840       -0.184792   \n",
            "casualty_severity                             0.036754       -0.066532   \n",
            "pedestrian_location                          -0.096344        0.751522   \n",
            "pedestrian_movement                          -0.079521        0.662514   \n",
            "car_passenger                                 0.315542        0.248356   \n",
            "bus_or_coach_passenger                        0.076981        0.080058   \n",
            "pedestrian_road_maintenance_worker           -0.033293        0.259431   \n",
            "casualty_type                                 0.028009       -0.200473   \n",
            "casualty_home_area_type                      -0.003238       -0.104555   \n",
            "casualty_imd_decile                          -0.017087       -0.113955   \n",
            "\n",
            "                                    sex_of_casualty  age_of_casualty  \\\n",
            "accident_year                                   NaN              NaN   \n",
            "vehicle_reference                          0.019836         0.026375   \n",
            "casualty_reference                         0.048556        -0.078981   \n",
            "casualty_class                             0.137353        -0.132366   \n",
            "sex_of_casualty                            1.000000         0.076587   \n",
            "age_of_casualty                            0.076587         1.000000   \n",
            "age_band_of_casualty                       0.086600         0.964877   \n",
            "casualty_severity                          0.053356        -0.090185   \n",
            "pedestrian_location                        0.043218        -0.036852   \n",
            "pedestrian_movement                        0.042408        -0.023038   \n",
            "car_passenger                              0.090071        -0.181314   \n",
            "bus_or_coach_passenger                     0.057171         0.035492   \n",
            "pedestrian_road_maintenance_worker         0.005428        -0.028115   \n",
            "casualty_type                             -0.056227        -0.002079   \n",
            "casualty_home_area_type                    0.043926         0.107652   \n",
            "casualty_imd_decile                        0.051282         0.150746   \n",
            "\n",
            "                                    age_band_of_casualty  casualty_severity  \\\n",
            "accident_year                                        NaN                NaN   \n",
            "vehicle_reference                               0.032156           0.042429   \n",
            "casualty_reference                             -0.095840           0.036754   \n",
            "casualty_class                                 -0.184792          -0.066532   \n",
            "sex_of_casualty                                 0.086600           0.053356   \n",
            "age_of_casualty                                 0.964877          -0.090185   \n",
            "age_band_of_casualty                            1.000000          -0.083324   \n",
            "casualty_severity                              -0.083324           1.000000   \n",
            "pedestrian_location                            -0.063222          -0.087146   \n",
            "pedestrian_movement                            -0.044204          -0.066950   \n",
            "car_passenger                                  -0.222494           0.049044   \n",
            "bus_or_coach_passenger                          0.012034           0.023132   \n",
            "pedestrian_road_maintenance_worker             -0.034944          -0.031249   \n",
            "casualty_type                                   0.004308          -0.029556   \n",
            "casualty_home_area_type                         0.119637          -0.012494   \n",
            "casualty_imd_decile                             0.151083          -0.011611   \n",
            "\n",
            "                                    pedestrian_location  pedestrian_movement  \\\n",
            "accident_year                                       NaN                  NaN   \n",
            "vehicle_reference                             -0.137785            -0.117820   \n",
            "casualty_reference                            -0.096344            -0.079521   \n",
            "casualty_class                                 0.751522             0.662514   \n",
            "sex_of_casualty                                0.043218             0.042408   \n",
            "age_of_casualty                               -0.036852            -0.023038   \n",
            "age_band_of_casualty                          -0.063222            -0.044204   \n",
            "casualty_severity                             -0.087146            -0.066950   \n",
            "pedestrian_location                            1.000000             0.828738   \n",
            "pedestrian_movement                            0.828738             1.000000   \n",
            "car_passenger                                 -0.131488            -0.115919   \n",
            "bus_or_coach_passenger                        -0.041436            -0.036529   \n",
            "pedestrian_road_maintenance_worker             0.300018             0.258448   \n",
            "casualty_type                                 -0.207131            -0.182601   \n",
            "casualty_home_area_type                       -0.063781            -0.052085   \n",
            "casualty_imd_decile                           -0.068264            -0.054192   \n",
            "\n",
            "                                    car_passenger  bus_or_coach_passenger  \\\n",
            "accident_year                                 NaN                     NaN   \n",
            "vehicle_reference                        0.010759               -0.021777   \n",
            "casualty_reference                       0.315542                0.076981   \n",
            "casualty_class                           0.248356                0.080058   \n",
            "sex_of_casualty                          0.090071                0.057171   \n",
            "age_of_casualty                         -0.181314                0.035492   \n",
            "age_band_of_casualty                    -0.222494                0.012034   \n",
            "casualty_severity                        0.049044                0.023132   \n",
            "pedestrian_location                     -0.131488               -0.041436   \n",
            "pedestrian_movement                     -0.115919               -0.036529   \n",
            "car_passenger                            1.000000               -0.040193   \n",
            "bus_or_coach_passenger                  -0.040193                1.000000   \n",
            "pedestrian_road_maintenance_worker      -0.045390               -0.014304   \n",
            "casualty_type                           -0.008912                0.010314   \n",
            "casualty_home_area_type                 -0.037051               -0.036470   \n",
            "casualty_imd_decile                     -0.046890               -0.041473   \n",
            "\n",
            "                                    pedestrian_road_maintenance_worker  \\\n",
            "accident_year                                                      NaN   \n",
            "vehicle_reference                                            -0.047766   \n",
            "casualty_reference                                           -0.033293   \n",
            "casualty_class                                                0.259431   \n",
            "sex_of_casualty                                               0.005428   \n",
            "age_of_casualty                                              -0.028115   \n",
            "age_band_of_casualty                                         -0.034944   \n",
            "casualty_severity                                            -0.031249   \n",
            "pedestrian_location                                           0.300018   \n",
            "pedestrian_movement                                           0.258448   \n",
            "car_passenger                                                -0.045390   \n",
            "bus_or_coach_passenger                                       -0.014304   \n",
            "pedestrian_road_maintenance_worker                            1.000000   \n",
            "casualty_type                                                -0.071503   \n",
            "casualty_home_area_type                                      -0.025721   \n",
            "casualty_imd_decile                                          -0.048436   \n",
            "\n",
            "                                    casualty_type  casualty_home_area_type  \\\n",
            "accident_year                                 NaN                      NaN   \n",
            "vehicle_reference                        0.035500                 0.011814   \n",
            "casualty_reference                       0.028009                -0.003238   \n",
            "casualty_class                          -0.200473                -0.104555   \n",
            "sex_of_casualty                         -0.056227                 0.043926   \n",
            "age_of_casualty                         -0.002079                 0.107652   \n",
            "age_band_of_casualty                     0.004308                 0.119637   \n",
            "casualty_severity                       -0.029556                -0.012494   \n",
            "pedestrian_location                     -0.207131                -0.063781   \n",
            "pedestrian_movement                     -0.182601                -0.052085   \n",
            "car_passenger                           -0.008912                -0.037051   \n",
            "bus_or_coach_passenger                   0.010314                -0.036470   \n",
            "pedestrian_road_maintenance_worker      -0.071503                -0.025721   \n",
            "casualty_type                            1.000000                 0.020259   \n",
            "casualty_home_area_type                  0.020259                 1.000000   \n",
            "casualty_imd_decile                      0.004643                 0.531154   \n",
            "\n",
            "                                    casualty_imd_decile  \n",
            "accident_year                                       NaN  \n",
            "vehicle_reference                              0.017928  \n",
            "casualty_reference                            -0.017087  \n",
            "casualty_class                                -0.113955  \n",
            "sex_of_casualty                                0.051282  \n",
            "age_of_casualty                                0.150746  \n",
            "age_band_of_casualty                           0.151083  \n",
            "casualty_severity                             -0.011611  \n",
            "pedestrian_location                           -0.068264  \n",
            "pedestrian_movement                           -0.054192  \n",
            "car_passenger                                 -0.046890  \n",
            "bus_or_coach_passenger                        -0.041473  \n",
            "pedestrian_road_maintenance_worker            -0.048436  \n",
            "casualty_type                                  0.004643  \n",
            "casualty_home_area_type                        0.531154  \n",
            "casualty_imd_decile                            1.000000  \n"
          ]
        },
        {
          "output_type": "stream",
          "name": "stderr",
          "text": [
            "<ipython-input-61-7a80fd393cd0>:2: FutureWarning: The default value of numeric_only in DataFrame.corr is deprecated. In a future version, it will default to False. Select only valid columns or specify the value of numeric_only to silence this warning.\n",
            "  print(data.corr())\n"
          ]
        }
      ]
    },
    {
      "cell_type": "code",
      "source": [
        "# Count the number of non-missing values in each column\n",
        "print(data.count())"
      ],
      "metadata": {
        "colab": {
          "base_uri": "https://localhost:8080/"
        },
        "id": "x1bgaOHRVcQc",
        "outputId": "2a19a88d-1baa-4db0-cd42-b56af76bf9bc"
      },
      "execution_count": null,
      "outputs": [
        {
          "output_type": "stream",
          "name": "stdout",
          "text": [
            "status                                61352\n",
            "accident_index                        61352\n",
            "accident_year                         61352\n",
            "accident_reference                    61352\n",
            "vehicle_reference                     61352\n",
            "casualty_reference                    61352\n",
            "casualty_class                        61352\n",
            "sex_of_casualty                       61352\n",
            "age_of_casualty                       61352\n",
            "age_band_of_casualty                  61352\n",
            "casualty_severity                     61352\n",
            "pedestrian_location                   61352\n",
            "pedestrian_movement                   61352\n",
            "car_passenger                         61352\n",
            "bus_or_coach_passenger                61352\n",
            "pedestrian_road_maintenance_worker    61352\n",
            "casualty_type                         61352\n",
            "casualty_home_area_type               61352\n",
            "casualty_imd_decile                   61352\n",
            "lsoa_of_casualty                      61352\n",
            "dtype: int64\n"
          ]
        }
      ]
    },
    {
      "cell_type": "code",
      "source": [
        "# Display the length of the data\n",
        "print(len(data))"
      ],
      "metadata": {
        "colab": {
          "base_uri": "https://localhost:8080/"
        },
        "id": "FIAZwJObVcTC",
        "outputId": "6b7e695c-d093-4d95-f33d-4bc1aea6161d"
      },
      "execution_count": null,
      "outputs": [
        {
          "output_type": "stream",
          "name": "stdout",
          "text": [
            "61352\n"
          ]
        }
      ]
    },
    {
      "cell_type": "code",
      "source": [
        "# Check if there are any duplicated rows\n",
        "print(data.duplicated().any())"
      ],
      "metadata": {
        "colab": {
          "base_uri": "https://localhost:8080/"
        },
        "id": "v9VCnm8yVcVl",
        "outputId": "9454215d-f250-465f-be2a-95b282931ce5"
      },
      "execution_count": null,
      "outputs": [
        {
          "output_type": "stream",
          "name": "stdout",
          "text": [
            "False\n"
          ]
        }
      ]
    },
    {
      "cell_type": "code",
      "source": [
        "# Check if 'accident_index' column has any duplicated values\n",
        "boolean = data['accident_index'].duplicated().any()\n",
        "print(boolean)"
      ],
      "metadata": {
        "colab": {
          "base_uri": "https://localhost:8080/"
        },
        "id": "wHYzAihlVcYY",
        "outputId": "b1cedb28-8712-4dbd-b00e-47dbe9691f4b"
      },
      "execution_count": null,
      "outputs": [
        {
          "output_type": "stream",
          "name": "stdout",
          "text": [
            "True\n"
          ]
        }
      ]
    },
    {
      "cell_type": "code",
      "source": [
        "# Display the count of 'accident_index' values\n",
        "print(data['accident_index'].value_counts().sort_values(ascending=False))"
      ],
      "metadata": {
        "colab": {
          "base_uri": "https://localhost:8080/"
        },
        "id": "B39bCr0mVca2",
        "outputId": "090d4466-286b-4beb-f9ec-5ed1e07d7908"
      },
      "execution_count": null,
      "outputs": [
        {
          "output_type": "stream",
          "name": "stdout",
          "text": [
            "2022010356595    16\n",
            "2022010377133    16\n",
            "2022411164580    14\n",
            "2022211187319    13\n",
            "2022471142394    13\n",
            "                 ..\n",
            "2022991163988     1\n",
            "2022501168773     1\n",
            "2022610003522     1\n",
            "2022610004722     1\n",
            "2022461157316     1\n",
            "Name: accident_index, Length: 48283, dtype: int64\n"
          ]
        }
      ]
    },
    {
      "cell_type": "markdown",
      "source": [
        "# **Display plot**"
      ],
      "metadata": {
        "id": "P_Qm-gf_WOVC"
      }
    },
    {
      "cell_type": "code",
      "source": [
        "# Plot histograms for various columns\n",
        "data['vehicle_reference'].hist()\n",
        "plt.show()"
      ],
      "metadata": {
        "colab": {
          "base_uri": "https://localhost:8080/",
          "height": 430
        },
        "id": "WOEKoNmAVchP",
        "outputId": "8c06ecf1-b87b-4a37-f98f-e336d779dcf4"
      },
      "execution_count": null,
      "outputs": [
        {
          "output_type": "display_data",
          "data": {
            "text/plain": [
              "<Figure size 640x480 with 1 Axes>"
            ],
            "image/png": "[encoded data removed]"
          },
          "metadata": {}
        }
      ]
    },
    {
      "cell_type": "code",
      "source": [
        "data['casualty_class'].hist()\n",
        "plt.show()"
      ],
      "metadata": {
        "colab": {
          "base_uri": "https://localhost:8080/",
          "height": 430
        },
        "id": "6FfR0mJ2VcmP",
        "outputId": "f9618413-3580-46fb-cfb2-99eb5cabb26d"
      },
      "execution_count": null,
      "outputs": [
        {
          "output_type": "display_data",
          "data": {
            "text/plain": [
              "<Figure size 640x480 with 1 Axes>"
            ],
            "image/png": "[encoded data removed]"
          },
          "metadata": {}
        }
      ]
    },
    {
      "cell_type": "code",
      "source": [
        "data['sex_of_casualty'].hist()\n",
        "plt.show()"
      ],
      "metadata": {
        "colab": {
          "base_uri": "https://localhost:8080/",
          "height": 430
        },
        "id": "2XL3prXUVcpN",
        "outputId": "f1c5460e-5a32-479e-e2bb-727d9392f5e2"
      },
      "execution_count": null,
      "outputs": [
        {
          "output_type": "display_data",
          "data": {
            "text/plain": [
              "<Figure size 640x480 with 1 Axes>"
            ],
            "image/png": "[encoded data removed]"
          },
          "metadata": {}
        }
      ]
    },
    {
      "cell_type": "code",
      "source": [
        "data['age_of_casualty'].hist()\n",
        "plt.show()"
      ],
      "metadata": {
        "colab": {
          "base_uri": "https://localhost:8080/",
          "height": 433
        },
        "id": "sHnGe8hwWaT0",
        "outputId": "fce26dea-a855-4a92-c557-ea23664faca9"
      },
      "execution_count": null,
      "outputs": [
        {
          "output_type": "display_data",
          "data": {
            "text/plain": [
              "<Figure size 640x480 with 1 Axes>"
            ],
            "image/png": "[encoded data removed]"
          },
          "metadata": {}
        }
      ]
    },
    {
      "cell_type": "code",
      "source": [
        "data['age_band_of_casualty'].hist()\n",
        "plt.show()"
      ],
      "metadata": {
        "colab": {
          "base_uri": "https://localhost:8080/",
          "height": 430
        },
        "id": "M2GzcFgDWaWF",
        "outputId": "1b523e4f-1923-4cbb-c470-f81ad86686c3"
      },
      "execution_count": null,
      "outputs": [
        {
          "output_type": "display_data",
          "data": {
            "text/plain": [
              "<Figure size 640x480 with 1 Axes>"
            ],
            "image/png": "[encoded data removed]"
          },
          "metadata": {}
        }
      ]
    },
    {
      "cell_type": "code",
      "source": [
        "data['casualty_severity'].hist()\n",
        "plt.show()"
      ],
      "metadata": {
        "colab": {
          "base_uri": "https://localhost:8080/",
          "height": 430
        },
        "id": "mdJnLGBzWaYe",
        "outputId": "75e6a5ed-46ee-4096-92c9-0ddffd4b76bb"
      },
      "execution_count": null,
      "outputs": [
        {
          "output_type": "display_data",
          "data": {
            "text/plain": [
              "<Figure size 640x480 with 1 Axes>"
            ],
            "image/png": "[encoded data removed]"
          },
          "metadata": {}
        }
      ]
    },
    {
      "cell_type": "code",
      "source": [
        "data['pedestrian_location'].hist()\n",
        "plt.show()"
      ],
      "metadata": {
        "colab": {
          "base_uri": "https://localhost:8080/",
          "height": 430
        },
        "id": "vAAQFaXBWaba",
        "outputId": "ab0e7b0f-04a2-42ac-8f71-a4c92557be95"
      },
      "execution_count": null,
      "outputs": [
        {
          "output_type": "display_data",
          "data": {
            "text/plain": [
              "<Figure size 640x480 with 1 Axes>"
            ],
            "image/png": "[encoded data removed]"
          },
          "metadata": {}
        }
      ]
    },
    {
      "cell_type": "code",
      "source": [
        "data['pedestrian_movement'].hist()\n",
        "plt.show()"
      ],
      "metadata": {
        "colab": {
          "base_uri": "https://localhost:8080/",
          "height": 430
        },
        "id": "3f4TwI9QWae1",
        "outputId": "0227b7c6-38f8-49ad-a0ba-07f2c280e21d"
      },
      "execution_count": null,
      "outputs": [
        {
          "output_type": "display_data",
          "data": {
            "text/plain": [
              "<Figure size 640x480 with 1 Axes>"
            ],
            "image/png": "[encoded data removed]"
          },
          "metadata": {}
        }
      ]
    },
    {
      "cell_type": "code",
      "source": [
        "data['car_passenger'].hist()\n",
        "plt.show()"
      ],
      "metadata": {
        "colab": {
          "base_uri": "https://localhost:8080/",
          "height": 430
        },
        "id": "9mbKIuHgWajf",
        "outputId": "a7ace1df-571c-49e1-d573-08499307d8cb"
      },
      "execution_count": null,
      "outputs": [
        {
          "output_type": "display_data",
          "data": {
            "text/plain": [
              "<Figure size 640x480 with 1 Axes>"
            ],
            "image/png": "[encoded data removed]"
          },
          "metadata": {}
        }
      ]
    },
    {
      "cell_type": "code",
      "source": [
        "data['bus_or_coach_passenger'].hist()\n",
        "plt.show()"
      ],
      "metadata": {
        "colab": {
          "base_uri": "https://localhost:8080/",
          "height": 430
        },
        "id": "-dqJ77K0Wal3",
        "outputId": "df119117-a5a1-4502-91c1-5e50c3d3cb56"
      },
      "execution_count": null,
      "outputs": [
        {
          "output_type": "display_data",
          "data": {
            "text/plain": [
              "<Figure size 640x480 with 1 Axes>"
            ],
            "image/png": "[encoded data removed]"
          },
          "metadata": {}
        }
      ]
    },
    {
      "cell_type": "code",
      "source": [
        "data['pedestrian_road_maintenance_worker'].hist()\n",
        "plt.show()"
      ],
      "metadata": {
        "colab": {
          "base_uri": "https://localhost:8080/",
          "height": 430
        },
        "id": "EU4h94QXWapO",
        "outputId": "2076be33-194f-403f-9fee-edae8daa14d1"
      },
      "execution_count": null,
      "outputs": [
        {
          "output_type": "display_data",
          "data": {
            "text/plain": [
              "<Figure size 640x480 with 1 Axes>"
            ],
            "image/png": "[encoded data removed]"
          },
          "metadata": {}
        }
      ]
    },
    {
      "cell_type": "code",
      "source": [
        "data['casualty_type'] = pd.to_numeric(data['casualty_type'], errors='coerce')\n",
        "data = data.dropna(subset=['casualty_type'])\n",
        "data['casualty_type'].hist()\n",
        "plt.show()"
      ],
      "metadata": {
        "colab": {
          "base_uri": "https://localhost:8080/",
          "height": 430
        },
        "id": "LX1ZlbmLWbJE",
        "outputId": "a2533919-f8df-4d36-f82e-43d33889b2f2"
      },
      "execution_count": null,
      "outputs": [
        {
          "output_type": "display_data",
          "data": {
            "text/plain": [
              "<Figure size 640x480 with 1 Axes>"
            ],
            "image/png": "[encoded data removed]"
          },
          "metadata": {}
        }
      ]
    },
    {
      "cell_type": "code",
      "source": [
        "data['casualty_home_area_type'].hist()\n",
        "plt.show()"
      ],
      "metadata": {
        "colab": {
          "base_uri": "https://localhost:8080/",
          "height": 430
        },
        "id": "0oQMBRUIWcDb",
        "outputId": "f4fde875-303a-4eae-be20-024f79666034"
      },
      "execution_count": null,
      "outputs": [
        {
          "output_type": "display_data",
          "data": {
            "text/plain": [
              "<Figure size 640x480 with 1 Axes>"
            ],
            "image/png": "[encoded data removed]"
          },
          "metadata": {}
        }
      ]
    },
    {
      "cell_type": "code",
      "source": [
        "data['casualty_imd_decile'].hist()\n",
        "plt.show()"
      ],
      "metadata": {
        "colab": {
          "base_uri": "https://localhost:8080/",
          "height": 432
        },
        "id": "nNNck1u4WcLN",
        "outputId": "18999bb3-f64a-4660-c504-19bc54a8b3fa"
      },
      "execution_count": null,
      "outputs": [
        {
          "output_type": "display_data",
          "data": {
            "text/plain": [
              "<Figure size 640x480 with 1 Axes>"
            ],
            "image/png": "[encoded data removed]"
          },
          "metadata": {}
        }
      ]
    },
    {
      "cell_type": "markdown",
      "source": [
        "# **# Data Cleaning**"
      ],
      "metadata": {
        "id": "xPFpek9rW_5W"
      }
    },
    {
      "cell_type": "code",
      "source": [
        "# Replace outliers in 'vehicle_reference' and 'casualty_reference' columns with median and mean, respectively\n",
        "median = data['vehicle_reference'].median()\n",
        "data['vehicle_reference'] = data['vehicle_reference'].apply(lambda x: x if x < 100 else median)\n",
        "mean = data['casualty_reference'].mean()\n",
        "data['casualty_reference'] = data['casualty_reference'].apply(lambda x: x if x < 100 else mean)"
      ],
      "metadata": {
        "id": "CiYAxjzaWcNr"
      },
      "execution_count": null,
      "outputs": []
    },
    {
      "cell_type": "code",
      "source": [
        "# Replace invalid values (less than 1) in 'casualty_class' column with the median\n",
        "median_casualty_class = data['casualty_class'].median()\n",
        "data['casualty_class'] = data['casualty_class'].apply(lambda x: x if x >= 1 else median_casualty_class)"
      ],
      "metadata": {
        "id": "kAG8ieWIXOAd"
      },
      "execution_count": null,
      "outputs": []
    },
    {
      "cell_type": "code",
      "source": [
        "# Replace invalid values in 'sex_of_casualty' column with the median\n",
        "median_sex = data['sex_of_casualty'].median()\n",
        "data['sex_of_casualty'] = data['sex_of_casualty'].apply(lambda x: x if x in [1, 2,3] else median_sex)"
      ],
      "metadata": {
        "id": "VPaKlm02XOMJ"
      },
      "execution_count": null,
      "outputs": []
    },
    {
      "cell_type": "code",
      "source": [
        "# Replace invalid and outlier values in 'age_of_casualty' column with the median\n",
        "median_age = data['age_of_casualty'].median()\n",
        "data['age_of_casualty'] = data['age_of_casualty'].apply(lambda x: x if 0 < x <= 100 else median_age)"
      ],
      "metadata": {
        "id": "aoGgACA7XOPG"
      },
      "execution_count": null,
      "outputs": []
    },
    {
      "cell_type": "code",
      "source": [
        "# Replace invalid values in 'age_band_of_casualty' column with the median\n",
        "median_age_band = data['age_band_of_casualty'].median()\n",
        "data['age_band_of_casualty'] = data['age_band_of_casualty'].apply(lambda x: x if 0 < x <= 10 else median_age_band)"
      ],
      "metadata": {
        "id": "wMYvJ-3iXOSb"
      },
      "execution_count": null,
      "outputs": []
    },
    {
      "cell_type": "code",
      "source": [
        "# Replace invalid values in 'casualty_severity' column with the median\n",
        "median_severity = data['casualty_severity'].median()\n",
        "data['casualty_severity'] = data['casualty_severity'].apply(lambda x: x if x in [2, 3] else median_severity)"
      ],
      "metadata": {
        "id": "XozJlPfCXOWd"
      },
      "execution_count": null,
      "outputs": []
    },
    {
      "cell_type": "code",
      "source": [
        "# Replace invalid values in 'pedestrian_location' column with the median\n",
        "median_ped_loc = data['pedestrian_location'].median()\n",
        "data['pedestrian_location'] = data['pedestrian_location'].apply(lambda x: x if x in range(11) else median_ped_loc)"
      ],
      "metadata": {
        "id": "82Xh8hhJXOY-"
      },
      "execution_count": null,
      "outputs": []
    },
    {
      "cell_type": "code",
      "source": [
        "# Replace invalid values in 'pedestrian_movement' column with the median\n",
        "median_ped_mov = data['pedestrian_movement'].median()\n",
        "data['pedestrian_movement'] = data['pedestrian_movement'].apply(lambda x: x if x in range(10) else median_ped_mov)"
      ],
      "metadata": {
        "id": "-ZRbsBQyXObW"
      },
      "execution_count": null,
      "outputs": []
    },
    {
      "cell_type": "code",
      "source": [
        "# Replace invalid values in 'car_passenger' column with the mode\n",
        "mode_car_passenger = data['car_passenger'].mode()[0]\n",
        "data['car_passenger'] = data['car_passenger'].apply(lambda x: x if x in [0, 1] else mode_car_passenger)"
      ],
      "metadata": {
        "id": "bynBwBvTXOd7"
      },
      "execution_count": null,
      "outputs": []
    },
    {
      "cell_type": "code",
      "source": [
        "# Replace invalid values in 'bus_or_coach_passenger' column with the mode\n",
        "mode_bus_passenger = data['bus_or_coach_passenger'].mode()[0]\n",
        "data['bus_or_coach_passenger'] = data['bus_or_coach_passenger'].apply(lambda x: x if x in [0, 1] else mode_bus_passenger)"
      ],
      "metadata": {
        "id": "0J9sTwnQXOgA"
      },
      "execution_count": null,
      "outputs": []
    },
    {
      "cell_type": "code",
      "source": [
        "# Replace invalid values in 'pedestrian_road_maintenance_worker' column with the mode\n",
        "mode_ped_worker = data['pedestrian_road_maintenance_worker'].mode()[0]\n",
        "data['pedestrian_road_maintenance_worker'] = data['pedestrian_road_maintenance_worker'].apply(lambda x: x if x in [0, 1, 2] else mode_ped_worker)"
      ],
      "metadata": {
        "id": "vg0MiwTMXOin"
      },
      "execution_count": null,
      "outputs": []
    },
    {
      "cell_type": "code",
      "source": [
        "# Replace invalid values in 'casualty_type' column with the mode\n",
        "mode_casualty_type = data['casualty_type'].mode()[0]\n",
        "data['casualty_type'] = data['casualty_type'].apply(lambda x: x if x in range(100) else mode_casualty_type)"
      ],
      "metadata": {
        "id": "-6ordQH0XOmF"
      },
      "execution_count": null,
      "outputs": []
    },
    {
      "cell_type": "code",
      "source": [
        "# Replace invalid values in 'casualty_home_area_type' column with the mode\n",
        "mode_casualty_home_area_type = data['casualty_home_area_type'].mode()[0]\n",
        "data['casualty_home_area_type'] = data['casualty_home_area_type'].apply(lambda x: x if x in [1, 2, 3] else mode_casualty_home_area_type)"
      ],
      "metadata": {
        "id": "aGTjlAe4WcQK"
      },
      "execution_count": null,
      "outputs": []
    },
    {
      "cell_type": "code",
      "source": [
        "# Replace invalid values in 'casualty_imd_decile' column with the mode\n",
        "mode_casualty_imd_decile = data['casualty_imd_decile'].mode()[0]\n",
        "data['casualty_imd_decile'] = data['casualty_imd_decile'].apply(lambda x: x if x in range(1, 11) else mode_casualty_imd_decile)"
      ],
      "metadata": {
        "id": "DMKhVhKlWcTj"
      },
      "execution_count": null,
      "outputs": []
    },
    {
      "cell_type": "code",
      "source": [
        "# Display summary statistics of the cleaned data\n",
        "summary = data.describe(include=\"all\")\n",
        "print(summary)"
      ],
      "metadata": {
        "colab": {
          "base_uri": "https://localhost:8080/"
        },
        "id": "d7KzJkdqVcsJ",
        "outputId": "84eb8ff1-88a1-4210-f75f-76c5caa5e4fe"
      },
      "execution_count": null,
      "outputs": [
        {
          "output_type": "stream",
          "name": "stdout",
          "text": [
            "             status accident_index  accident_year accident_reference  \\\n",
            "count         61352          61352        61352.0              61352   \n",
            "unique            1          48283            NaN              48283   \n",
            "top     Unvalidated  2022010356595            NaN          010356595   \n",
            "freq          61352             16            NaN                 16   \n",
            "mean            NaN            NaN         2022.0                NaN   \n",
            "std             NaN            NaN            0.0                NaN   \n",
            "min             NaN            NaN         2022.0                NaN   \n",
            "25%             NaN            NaN         2022.0                NaN   \n",
            "50%             NaN            NaN         2022.0                NaN   \n",
            "75%             NaN            NaN         2022.0                NaN   \n",
            "max             NaN            NaN         2022.0                NaN   \n",
            "\n",
            "        vehicle_reference  casualty_reference  casualty_class  \\\n",
            "count        61352.000000        61352.000000    61352.000000   \n",
            "unique                NaN                 NaN             NaN   \n",
            "top                   NaN                 NaN             NaN   \n",
            "freq                  NaN                 NaN             NaN   \n",
            "mean             1.446685            1.331388        1.482299   \n",
            "std              0.634478            0.782770        0.735614   \n",
            "min              1.000000            1.000000        1.000000   \n",
            "25%              1.000000            1.000000        1.000000   \n",
            "50%              1.000000            1.000000        1.000000   \n",
            "75%              2.000000            1.000000        2.000000   \n",
            "max             61.000000           22.000000        3.000000   \n",
            "\n",
            "        sex_of_casualty  age_of_casualty  age_band_of_casualty  \\\n",
            "count      61352.000000     61352.000000          61352.000000   \n",
            "unique              NaN              NaN                   NaN   \n",
            "top                 NaN              NaN                   NaN   \n",
            "freq                NaN              NaN                   NaN   \n",
            "mean           1.382090        37.489797              6.243171   \n",
            "std            0.485902        18.691278              2.004336   \n",
            "min            1.000000         1.000000              1.000000   \n",
            "25%            1.000000        23.000000              5.000000   \n",
            "50%            1.000000        34.000000              6.000000   \n",
            "75%            2.000000        50.000000              8.000000   \n",
            "max            2.000000        99.000000             10.000000   \n",
            "\n",
            "        casualty_severity  pedestrian_location  pedestrian_movement  \\\n",
            "count        61352.000000         61352.000000         61352.000000   \n",
            "unique                NaN                  NaN                  NaN   \n",
            "top                   NaN                  NaN                  NaN   \n",
            "freq                  NaN                  NaN                  NaN   \n",
            "mean             2.808792             0.800316             0.645325   \n",
            "std              0.393256             2.197167             2.009611   \n",
            "min              2.000000             0.000000             0.000000   \n",
            "25%              3.000000             0.000000             0.000000   \n",
            "50%              3.000000             0.000000             0.000000   \n",
            "75%              3.000000             0.000000             0.000000   \n",
            "max              3.000000            10.000000             9.000000   \n",
            "\n",
            "        car_passenger  bus_or_coach_passenger  \\\n",
            "count    61352.000000            61352.000000   \n",
            "unique            NaN                     NaN   \n",
            "top               NaN                     NaN   \n",
            "freq              NaN                     NaN   \n",
            "mean         0.100567                0.000522   \n",
            "std          0.300757                0.022832   \n",
            "min          0.000000                0.000000   \n",
            "25%          0.000000                0.000000   \n",
            "50%          0.000000                0.000000   \n",
            "75%          0.000000                0.000000   \n",
            "max          1.000000                1.000000   \n",
            "\n",
            "        pedestrian_road_maintenance_worker  casualty_type  \\\n",
            "count                         61352.000000   61352.000000   \n",
            "unique                                 NaN            NaN   \n",
            "top                                    NaN            NaN   \n",
            "freq                                   NaN            NaN   \n",
            "mean                              0.034701       9.475975   \n",
            "std                               0.257537      16.662459   \n",
            "min                               0.000000       0.000000   \n",
            "25%                               0.000000       1.000000   \n",
            "50%                               0.000000       9.000000   \n",
            "75%                               0.000000       9.000000   \n",
            "max                               2.000000      98.000000   \n",
            "\n",
            "        casualty_home_area_type  casualty_imd_decile lsoa_of_casualty  \n",
            "count              61352.000000         61352.000000            61352  \n",
            "unique                      NaN                  NaN            23841  \n",
            "top                         NaN                  NaN               -1  \n",
            "freq                        NaN                  NaN             8027  \n",
            "mean                   1.270260             4.620501              NaN  \n",
            "std                    0.626778             2.779437              NaN  \n",
            "min                    1.000000             1.000000              NaN  \n",
            "25%                    1.000000             2.000000              NaN  \n",
            "50%                    1.000000             4.000000              NaN  \n",
            "75%                    1.000000             7.000000              NaN  \n",
            "max                    3.000000            10.000000              NaN  \n"
          ]
        }
      ]
    },
    {
      "cell_type": "code",
      "source": [
        "# Drop 'status' column\n",
        "data = data.drop('status', axis=1)"
      ],
      "metadata": {
        "id": "GVTbbBB3Vcu8"
      },
      "execution_count": null,
      "outputs": []
    },
    {
      "cell_type": "code",
      "source": [
        "# Check if 'accident_index' column contains only digits\n",
        "valid_values = data['accident_index'].str.isdigit()"
      ],
      "metadata": {
        "id": "w4J7mhntVcym"
      },
      "execution_count": null,
      "outputs": []
    },
    {
      "cell_type": "code",
      "source": [
        "# Filter the data to keep only rows with valid 'accident_index'\n",
        "data = data[valid_values]"
      ],
      "metadata": {
        "id": "lXLyzTOjYHPu"
      },
      "execution_count": null,
      "outputs": []
    },
    {
      "cell_type": "code",
      "source": [
        "# Filter the data to remove rows with 'lsoa_of_casualty' equal to '-1'\n",
        "data = data[data['lsoa_of_casualty'] != '-1']"
      ],
      "metadata": {
        "id": "2qQUJgUbYHTT"
      },
      "execution_count": null,
      "outputs": []
    },
    {
      "cell_type": "code",
      "source": [
        "# Display summary statistics of the final cleaned data\n",
        "print(data.describe())"
      ],
      "metadata": {
        "colab": {
          "base_uri": "https://localhost:8080/"
        },
        "id": "c5Jr0x-XYHgd",
        "outputId": "12c58eb5-c841-4650-d349-33ce323d870a"
      },
      "execution_count": null,
      "outputs": [
        {
          "output_type": "stream",
          "name": "stdout",
          "text": [
            "       accident_year  vehicle_reference  casualty_reference  casualty_class  \\\n",
            "count        51851.0       51851.000000        51851.000000    51851.000000   \n",
            "mean          2022.0           1.447147            1.314060        1.461341   \n",
            "std              0.0           0.640574            0.759864        0.729635   \n",
            "min           2022.0           1.000000            1.000000        1.000000   \n",
            "25%           2022.0           1.000000            1.000000        1.000000   \n",
            "50%           2022.0           1.000000            1.000000        1.000000   \n",
            "75%           2022.0           2.000000            1.000000        2.000000   \n",
            "max           2022.0          61.000000           22.000000        3.000000   \n",
            "\n",
            "       sex_of_casualty  age_of_casualty  age_band_of_casualty  \\\n",
            "count     51851.000000     51851.000000          51851.000000   \n",
            "mean          1.382133        37.590693              6.258722   \n",
            "std           0.485914        18.647562              1.989482   \n",
            "min           1.000000         1.000000              1.000000   \n",
            "25%           1.000000        23.000000              5.000000   \n",
            "50%           1.000000        34.000000              6.000000   \n",
            "75%           2.000000        50.000000              8.000000   \n",
            "max           2.000000        99.000000             10.000000   \n",
            "\n",
            "       casualty_severity  pedestrian_location  pedestrian_movement  \\\n",
            "count       51851.000000         51851.000000         51851.000000   \n",
            "mean            2.814488             0.781296             0.638541   \n",
            "std             0.388716             2.180194             2.009983   \n",
            "min             2.000000             0.000000             0.000000   \n",
            "25%             3.000000             0.000000             0.000000   \n",
            "50%             3.000000             0.000000             0.000000   \n",
            "75%             3.000000             0.000000             0.000000   \n",
            "max             3.000000            10.000000             9.000000   \n",
            "\n",
            "       car_passenger  bus_or_coach_passenger  \\\n",
            "count   51851.000000            51851.000000   \n",
            "mean        0.094714                0.000521   \n",
            "std         0.292822                0.022814   \n",
            "min         0.000000                0.000000   \n",
            "25%         0.000000                0.000000   \n",
            "50%         0.000000                0.000000   \n",
            "75%         0.000000                0.000000   \n",
            "max         1.000000                1.000000   \n",
            "\n",
            "       pedestrian_road_maintenance_worker  casualty_type  \\\n",
            "count                        51851.000000   51851.000000   \n",
            "mean                             0.036123       9.512160   \n",
            "std                              0.262741      16.860075   \n",
            "min                              0.000000       0.000000   \n",
            "25%                              0.000000       1.000000   \n",
            "50%                              0.000000       9.000000   \n",
            "75%                              0.000000       9.000000   \n",
            "max                              2.000000      98.000000   \n",
            "\n",
            "       casualty_home_area_type  casualty_imd_decile  \n",
            "count             51851.000000         51851.000000  \n",
            "mean                  1.273013             4.880349  \n",
            "std                   0.627023             2.778967  \n",
            "min                   1.000000             1.000000  \n",
            "25%                   1.000000             2.000000  \n",
            "50%                   1.000000             5.000000  \n",
            "75%                   1.000000             7.000000  \n",
            "max                   3.000000            10.000000  \n"
          ]
        }
      ]
    },
    {
      "cell_type": "markdown",
      "source": [
        "# **Saving  File**"
      ],
      "metadata": {
        "id": "BokUtKS03JHY"
      }
    },
    {
      "cell_type": "code",
      "source": [
        "# Save the cleaned data to a new CSV file\n",
        "data.to_csv(file_name + '_cleaned' + '.csv', index=False)"
      ],
      "metadata": {
        "id": "L-7WwQvwYHrX"
      },
      "execution_count": null,
      "outputs": []
    },
    {
      "cell_type": "code",
      "source": [
        "# Rename the cleaned file\n",
        "os.rename('/content/dft-road-casualty-statistics-casualty-provisional-mid-year-unvalidated-2022_cleaned.csv', '/content/cleaned_data.csv')"
      ],
      "metadata": {
        "id": "ZgD9aOdHYUQX"
      },
      "execution_count": null,
      "outputs": []
    }
  ]
}